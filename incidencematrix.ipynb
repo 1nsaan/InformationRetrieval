{
 "cells": [
  {
   "cell_type": "code",
   "execution_count": 1,
   "metadata": {},
   "outputs": [],
   "source": [
    "\n",
    "doc1 = open('D:\\\\users\\\\sachin\\\\desktop\\\\1.txt', 'w')\n",
    "doc1.write('breakthrough drug for schrizophrenia')\n",
    "doc1.close()\n"
   ]
  },
  {
   "cell_type": "code",
   "execution_count": 2,
   "metadata": {},
   "outputs": [],
   "source": [
    "\n",
    "doc2 = open('D:\\\\users\\\\sachin\\\\desktop\\\\2.txt', 'w')\n",
    "doc2.write('new schrizophrenia drug')\n",
    "doc2.close()\n"
   ]
  },
  {
   "cell_type": "code",
   "execution_count": 3,
   "metadata": {},
   "outputs": [],
   "source": [
    "\n",
    "doc3 = open('D:\\\\users\\\\sachin\\\\desktop\\\\3.txt', 'w')\n",
    "doc3.write('new approach for treatment of schrizophrenia')\n",
    "doc3.close()\n"
   ]
  },
  {
   "cell_type": "code",
   "execution_count": 4,
   "metadata": {},
   "outputs": [],
   "source": [
    "\n",
    "with open('D:\\\\users\\\\sachin\\\\desktop\\\\4.txt', 'r') as doc4:\n",
    "    c4 = doc4.read().split()\n"
   ]
  },
  {
   "cell_type": "code",
   "execution_count": 5,
   "metadata": {},
   "outputs": [],
   "source": [
    "\n",
    "with open('D:\\\\users\\\\sachin\\\\desktop\\\\1.txt', 'r') as doc1:\n",
    "    c1 = doc1.read().split()\n"
   ]
  },
  {
   "cell_type": "code",
   "execution_count": 6,
   "metadata": {},
   "outputs": [],
   "source": [
    "\n",
    "with open('D:\\\\users\\\\sachin\\\\desktop\\\\2.txt', 'r') as doc2:\n",
    "    c2 = doc2.read().split()\n"
   ]
  },
  {
   "cell_type": "code",
   "execution_count": 7,
   "metadata": {},
   "outputs": [],
   "source": [
    "with open('D:\\\\users\\\\sachin\\\\desktop\\\\3.txt', 'r') as doc3:\n",
    "    c3 = doc3.read().split()\n"
   ]
  },
  {
   "cell_type": "code",
   "execution_count": null,
   "metadata": {},
   "outputs": [],
   "source": []
  },
  {
   "cell_type": "code",
   "execution_count": 8,
   "metadata": {},
   "outputs": [
    {
     "name": "stdout",
     "output_type": "stream",
     "text": [
      "['breakthrough', 'drug', 'for', 'schrizophrenia'] ['new', 'schrizophrenia', 'drug'] ['new', 'approach', 'for', 'treatment', 'of', 'schrizophrenia'] ['new', 'hopes', 'for', 'schrizophrenia']\n"
     ]
    }
   ],
   "source": [
    "\n",
    "print(c1, c2, c3, c4)\n"
   ]
  },
  {
   "cell_type": "code",
   "execution_count": 9,
   "metadata": {},
   "outputs": [
    {
     "name": "stdout",
     "output_type": "stream",
     "text": [
      "{'approach', 'new', 'drug', 'of', 'hopes', 'treatment', 'schrizophrenia', 'for', 'breakthrough'}\n"
     ]
    }
   ],
   "source": [
    "\n",
    "uniq = set(c1+c2+c3+c4)\n",
    "print(uniq)\n"
   ]
  },
  {
   "cell_type": "code",
   "execution_count": 10,
   "metadata": {},
   "outputs": [
    {
     "name": "stdout",
     "output_type": "stream",
     "text": [
      "{'approach': [], 'new': [], 'drug': [], 'of': [], 'hopes': [], 'treatment': [], 'schrizophrenia': [], 'for': [], 'breakthrough': []}\n"
     ]
    }
   ],
   "source": [
    "docs = [c1, c2, c3, c4]\n",
    "incidence_matrix = {word: [] for word in uniq}\n",
    "print(incidence_matrix)\n"
   ]
  },
  {
   "cell_type": "code",
   "execution_count": 11,
   "metadata": {},
   "outputs": [
    {
     "name": "stdout",
     "output_type": "stream",
     "text": [
      "{'approach': [], 'new': [], 'drug': [], 'of': [], 'hopes': [], 'treatment': [], 'schrizophrenia': [], 'for': [], 'breakthrough': []}\n"
     ]
    }
   ],
   "source": [
    "\n",
    "docs = [c1, c2, c3, c4]\n",
    "incidence_matrix = {word: [] for word in uniq}\n",
    "print(incidence_matrix)\n"
   ]
  },
  {
   "cell_type": "code",
   "execution_count": 12,
   "metadata": {},
   "outputs": [],
   "source": [
    "\n",
    "for word in uniq:\n",
    "    for doc in docs:  \n",
    "        if word in doc:\n",
    "            incidence_matrix[word].append(1)\n",
    "        else:\n",
    "            incidence_matrix[word].append(0)\n",
    "    "
   ]
  },
  {
   "cell_type": "code",
   "execution_count": 13,
   "metadata": {},
   "outputs": [
    {
     "name": "stdout",
     "output_type": "stream",
     "text": [
      "{'approach': [0, 0, 1, 0], 'new': [0, 1, 1, 1], 'drug': [1, 1, 0, 0], 'of': [0, 0, 1, 0], 'hopes': [0, 0, 0, 1], 'treatment': [0, 0, 1, 0], 'schrizophrenia': [1, 1, 1, 1], 'for': [1, 0, 1, 1], 'breakthrough': [1, 0, 0, 0]}\n"
     ]
    }
   ],
   "source": [
    "print(incidence_matrix)\n"
   ]
  },
  {
   "cell_type": "code",
   "execution_count": 23,
   "metadata": {},
   "outputs": [],
   "source": [
    "\n",
    "query = input('Enter query: ').split()\n"
   ]
  },
  {
   "cell_type": "code",
   "execution_count": 24,
   "metadata": {},
   "outputs": [
    {
     "name": "stdout",
     "output_type": "stream",
     "text": [
      "['(', 'for', 'AND', 'NOT', '(', 'approach', ')', ')']\n"
     ]
    }
   ],
   "source": [
    "\n",
    "im = incidence_matrix\n",
    "query1 = ['('] + query + [')']\n",
    "print(query1)\n"
   ]
  },
  {
   "cell_type": "code",
   "execution_count": 25,
   "metadata": {},
   "outputs": [],
   "source": [
    "def to_post(infix):\n",
    "    priority = {'AND': 2, 'OR': 1, 'NOT': 3, '(': 0, ')': 0}\n",
    "    operations = ['AND', 'OR', 'NOT', '(', ')']\n",
    "    stack = []\n",
    "    post = []\n",
    "    for i in infix:\n",
    "        print(i)\n",
    "        if i == '(':\n",
    "            stack.append(i)\n",
    "        elif i not in operations:\n",
    "            post.append(i)\n",
    "        elif i == ')':\n",
    "            while True:\n",
    "                j = stack.pop()\n",
    "                if(j == '('):\n",
    "                    break\n",
    "                post.append(j)\n",
    "\n",
    "        else:\n",
    "\n",
    "            if(len(stack) == 0):\n",
    "                stack.append(i)\n",
    "            elif(priority[i] > priority[stack[-1]]):\n",
    "                stack.append(i)\n",
    "            else:\n",
    "                while True:\n",
    "                    top = stack[-1]\n",
    "                    if(priority[i] < priority[stack[-1]]):\n",
    "                        break\n",
    "                    else:\n",
    "                        post.append(stack.pop())\n",
    "    if(len(stack) != 0):\n",
    "        while len(stack) != 0:\n",
    "            post.append(stack.pop())\n",
    "    return post\n"
   ]
  },
  {
   "cell_type": "code",
   "execution_count": 26,
   "metadata": {},
   "outputs": [
    {
     "name": "stdout",
     "output_type": "stream",
     "text": [
      "(\n",
      "for\n",
      "AND\n",
      "NOT\n",
      "(\n",
      "approach\n",
      ")\n",
      ")\n",
      "['for', 'approach', 'NOT', 'AND']\n"
     ]
    }
   ],
   "source": [
    "postfix=to_post(query1)\n",
    "print(postfix)\n"
   ]
  },
  {
   "cell_type": "code",
   "execution_count": 27,
   "metadata": {},
   "outputs": [],
   "source": [
    "def replace_with_lists(postfix):\n",
    "    for i in range(len(postfix)):\n",
    "        if postfix[i] in uniq:\n",
    "            postfix[i] = im[postfix[i]]\n"
   ]
  },
  {
   "cell_type": "code",
   "execution_count": 28,
   "metadata": {},
   "outputs": [],
   "source": [
    "replace_with_lists(postfix)\n"
   ]
  },
  {
   "cell_type": "code",
   "execution_count": 29,
   "metadata": {},
   "outputs": [],
   "source": [
    "def evaluate(postfix):\n",
    "    stack = []\n",
    "    operations = ['AND', 'OR', 'NOT', '(', ')']\n",
    "    for i in postfix:\n",
    "        if i not in operations:\n",
    "            stack.append(i)\n",
    "        elif i == 'NOT':\n",
    "            top = stack.pop()\n",
    "            res = [int(not(j))for j in top]\n",
    "            stack.append(res)\n",
    "        else:\n",
    "            op = i.lower()\n",
    "            l1 = stack.pop()\n",
    "            l2 = stack.pop()\n",
    "            res = [eval(f'{i} '+op.lower()+f' {j}') for i, j in zip(l1, l2)]\n",
    "            stack.append(res)\n",
    "    return stack.pop()\n"
   ]
  },
  {
   "cell_type": "code",
   "execution_count": 30,
   "metadata": {},
   "outputs": [
    {
     "data": {
      "text/plain": [
       "[1, 0, 0, 1]"
      ]
     },
     "execution_count": 30,
     "metadata": {},
     "output_type": "execute_result"
    }
   ],
   "source": [
    "evaluate(postfix)\n"
   ]
  }
 ],
 "metadata": {
  "kernelspec": {
   "display_name": "base",
   "language": "python",
   "name": "python3"
  },
  "language_info": {
   "codemirror_mode": {
    "name": "ipython",
    "version": 3
   },
   "file_extension": ".py",
   "mimetype": "text/x-python",
   "name": "python",
   "nbconvert_exporter": "python",
   "pygments_lexer": "ipython3",
   "version": "3.10.9"
  },
  "orig_nbformat": 4
 },
 "nbformat": 4,
 "nbformat_minor": 2
}
