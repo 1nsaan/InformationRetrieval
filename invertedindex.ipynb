{
 "cells": [
  {
   "cell_type": "code",
   "execution_count": 1,
   "metadata": {},
   "outputs": [],
   "source": [
    "\n",
    "doc1 = open('D:\\\\users\\\\sachin\\\\desktop\\\\1.txt', 'w')\n",
    "doc1.write('breakthrough drug for schrizophrenia')\n",
    "doc1.close()\n"
   ]
  },
  {
   "cell_type": "code",
   "execution_count": 2,
   "metadata": {},
   "outputs": [],
   "source": [
    "\n",
    "doc2 = open('D:\\\\users\\\\sachin\\\\desktop\\\\2.txt', 'w')\n",
    "doc2.write('new schrizophrenia drug')\n",
    "doc2.close()\n"
   ]
  },
  {
   "cell_type": "code",
   "execution_count": 3,
   "metadata": {},
   "outputs": [],
   "source": [
    "\n",
    "doc3 = open('D:\\\\users\\\\sachin\\\\desktop\\\\3.txt', 'w')\n",
    "doc3.write('new approach for treatment of schrizophrenia')\n",
    "doc3.close()\n"
   ]
  },
  {
   "cell_type": "code",
   "execution_count": 4,
   "metadata": {},
   "outputs": [],
   "source": [
    "\n",
    "with open('D:\\\\users\\\\sachin\\\\desktop\\\\4.txt', 'r') as doc4:\n",
    "    c4 = doc4.read().split()\n"
   ]
  },
  {
   "cell_type": "code",
   "execution_count": 5,
   "metadata": {},
   "outputs": [],
   "source": [
    "\n",
    "with open('D:\\\\users\\\\sachin\\\\desktop\\\\1.txt', 'r') as doc1:\n",
    "    c1 = doc1.read().split()\n"
   ]
  },
  {
   "cell_type": "code",
   "execution_count": 6,
   "metadata": {},
   "outputs": [],
   "source": [
    "\n",
    "with open('D:\\\\users\\\\sachin\\\\desktop\\\\2.txt', 'r') as doc2:\n",
    "    c2 = doc2.read().split()\n"
   ]
  },
  {
   "cell_type": "code",
   "execution_count": 7,
   "metadata": {},
   "outputs": [],
   "source": [
    "with open('D:\\\\users\\\\sachin\\\\desktop\\\\3.txt', 'r') as doc3:\n",
    "    c3 = doc3.read().split()\n"
   ]
  },
  {
   "cell_type": "code",
   "execution_count": 32,
   "metadata": {},
   "outputs": [],
   "source": [
    "def AND(l1,l2):\n",
    "    result=[]\n",
    "    l1.sort()\n",
    "    l2.sort()\n",
    "    i=0\n",
    "    j=0\n",
    "    while(i<len(l1) and j<len(l2)):\n",
    "        if(l1[i] == l2[j]):\n",
    "            result.append(l1[i])\n",
    "            i+=1\n",
    "            j+=1\n",
    "        elif(l1[i] < l2[j]):\n",
    "            i+=1\n",
    "        else:\n",
    "            j+=1\n",
    "\n",
    "    return result"
   ]
  },
  {
   "cell_type": "code",
   "execution_count": 35,
   "metadata": {},
   "outputs": [],
   "source": [
    "def OR(l1,l2):\n",
    "    l1.sort()\n",
    "    l2.sort()\n",
    "    i=0\n",
    "    j=0\n",
    "    result=[]\n",
    "    while(i<len(l1) and j<len(l2)):\n",
    "        if(l1[i] == l2[j]):\n",
    "            result.append(l1[i])\n",
    "            i+=1\n",
    "            j+=1\n",
    "        elif(l1[i] < l2[j]):\n",
    "            result.append(l1[i])\n",
    "            i+=1\n",
    "        else:\n",
    "            result.append(l2[j])\n",
    "            j+=1\n",
    "    return result"
   ]
  },
  {
   "cell_type": "code",
   "execution_count": 8,
   "metadata": {},
   "outputs": [
    {
     "name": "stdout",
     "output_type": "stream",
     "text": [
      "['breakthrough', 'drug', 'for', 'schrizophrenia'] ['new', 'schrizophrenia', 'drug'] ['new', 'approach', 'for', 'treatment', 'of', 'schrizophrenia'] ['new', 'hopes', 'for', 'schrizophrenia']\n"
     ]
    }
   ],
   "source": [
    "\n",
    "print(c1, c2, c3, c4)\n"
   ]
  },
  {
   "cell_type": "code",
   "execution_count": 9,
   "metadata": {},
   "outputs": [
    {
     "name": "stdout",
     "output_type": "stream",
     "text": [
      "{'hopes', 'approach', 'drug', 'breakthrough', 'treatment', 'schrizophrenia', 'new', 'for', 'of'}\n"
     ]
    }
   ],
   "source": [
    "\n",
    "uniq = set(c1+c2+c3+c4)\n",
    "print(uniq)\n"
   ]
  },
  {
   "cell_type": "code",
   "execution_count": 10,
   "metadata": {},
   "outputs": [
    {
     "name": "stdout",
     "output_type": "stream",
     "text": [
      "{'hopes': [], 'approach': [], 'drug': [], 'breakthrough': [], 'treatment': [], 'schrizophrenia': [], 'new': [], 'for': [], 'of': []}\n"
     ]
    }
   ],
   "source": [
    "docs = [c1, c2, c3, c4]\n",
    "incidence_matrix = {word: [] for word in uniq}\n",
    "print(incidence_matrix)\n"
   ]
  },
  {
   "cell_type": "code",
   "execution_count": 25,
   "metadata": {},
   "outputs": [
    {
     "name": "stdout",
     "output_type": "stream",
     "text": [
      "{'hopes': [], 'approach': [], 'drug': [], 'breakthrough': [], 'treatment': [], 'schrizophrenia': [], 'new': [], 'for': [], 'of': []}\n"
     ]
    }
   ],
   "source": [
    "\n",
    "docs = [c1, c2, c3, c4]\n",
    "inverted_matrix = {word: [] for word in uniq}\n",
    "print(inverted_matrix)\n"
   ]
  },
  {
   "cell_type": "code",
   "execution_count": 26,
   "metadata": {},
   "outputs": [],
   "source": [
    "\n",
    "for word in uniq:\n",
    "    for doc in range(len(docs)):  \n",
    "        if word in docs[doc]:\n",
    "            inverted_matrix[word].append(doc)\n",
    "        \n",
    "    "
   ]
  },
  {
   "cell_type": "code",
   "execution_count": 29,
   "metadata": {},
   "outputs": [
    {
     "name": "stdout",
     "output_type": "stream",
     "text": [
      "{'hopes': [3], 'approach': [2], 'drug': [0, 1], 'breakthrough': [0], 'treatment': [2], 'schrizophrenia': [0, 1, 2, 3], 'new': [1, 2, 3], 'for': [0, 2, 3], 'of': [2]}\n"
     ]
    }
   ],
   "source": [
    "print(inverted_matrix)\n",
    "ii=inverted_matrix"
   ]
  },
  {
   "cell_type": "code",
   "execution_count": 22,
   "metadata": {},
   "outputs": [],
   "source": [
    "\n",
    "query = input('Enter query: ').split()\n"
   ]
  },
  {
   "cell_type": "code",
   "execution_count": 37,
   "metadata": {},
   "outputs": [
    {
     "name": "stdout",
     "output_type": "stream",
     "text": [
      "[0, 1, 2, 3]\n"
     ]
    }
   ],
   "source": [
    "print(OR(ii['hopes'] , ii['schrizophrenia']))"
   ]
  }
 ],
 "metadata": {
  "kernelspec": {
   "display_name": "base",
   "language": "python",
   "name": "python3"
  },
  "language_info": {
   "codemirror_mode": {
    "name": "ipython",
    "version": 3
   },
   "file_extension": ".py",
   "mimetype": "text/x-python",
   "name": "python",
   "nbconvert_exporter": "python",
   "pygments_lexer": "ipython3",
   "version": "3.10.9"
  },
  "orig_nbformat": 4
 },
 "nbformat": 4,
 "nbformat_minor": 2
}
